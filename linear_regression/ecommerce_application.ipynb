{
 "cells": [
  {
   "cell_type": "code",
   "execution_count": 1,
   "metadata": {},
   "outputs": [],
   "source": [
    "from pyspark.sql import SparkSession\n",
    "from pyspark.sql import functions as f\n",
    "from pyspark.ml.regression import LinearRegression"
   ]
  },
  {
   "cell_type": "code",
   "execution_count": 2,
   "metadata": {},
   "outputs": [
    {
     "name": "stderr",
     "output_type": "stream",
     "text": [
      "22/02/15 10:49:14 WARN Utils: Your hostname, ganesh-pi resolves to a loopback address: 127.0.1.1; using 192.168.1.119 instead (on interface eth0)\n",
      "22/02/15 10:49:14 WARN Utils: Set SPARK_LOCAL_IP if you need to bind to another address\n",
      "WARNING: An illegal reflective access operation has occurred\n",
      "WARNING: Illegal reflective access by org.apache.spark.unsafe.Platform (file:/home/ganesh/spark-3.2.1-bin-hadoop3.2/jars/spark-unsafe_2.12-3.2.1.jar) to constructor java.nio.DirectByteBuffer(long,int)\n",
      "WARNING: Please consider reporting this to the maintainers of org.apache.spark.unsafe.Platform\n",
      "WARNING: Use --illegal-access=warn to enable warnings of further illegal reflective access operations\n",
      "WARNING: All illegal access operations will be denied in a future release\n",
      "Using Spark's default log4j profile: org/apache/spark/log4j-defaults.properties\n",
      "Setting default log level to \"WARN\".\n",
      "To adjust logging level use sc.setLogLevel(newLevel). For SparkR, use setLogLevel(newLevel).\n",
      "22/02/15 10:49:16 WARN NativeCodeLoader: Unable to load native-hadoop library for your platform... using builtin-java classes where applicable\n"
     ]
    }
   ],
   "source": [
    "spark = SparkSession.builder.appName('ecom_app').getOrCreate()"
   ]
  },
  {
   "cell_type": "code",
   "execution_count": 3,
   "metadata": {},
   "outputs": [
    {
     "name": "stderr",
     "output_type": "stream",
     "text": [
      "[Stage 1:>                                                          (0 + 1) / 1]\r"
     ]
    },
    {
     "name": "stdout",
     "output_type": "stream",
     "text": [
      "root\n",
      " |-- Email: string (nullable = true)\n",
      " |-- Address: string (nullable = true)\n",
      " |-- Avatar: string (nullable = true)\n",
      " |-- Avg Session Length: double (nullable = true)\n",
      " |-- Time on App: double (nullable = true)\n",
      " |-- Time on Website: double (nullable = true)\n",
      " |-- Length of Membership: double (nullable = true)\n",
      " |-- Yearly Amount Spent: double (nullable = true)\n",
      "\n"
     ]
    },
    {
     "name": "stderr",
     "output_type": "stream",
     "text": [
      "                                                                                \r"
     ]
    }
   ],
   "source": [
    "df = spark.read.csv('Ecommerce_Customers.csv', inferSchema=True, header=True)\n",
    "df.printSchema() "
   ]
  },
  {
   "cell_type": "code",
   "execution_count": 10,
   "metadata": {},
   "outputs": [
    {
     "name": "stdout",
     "output_type": "stream",
     "text": [
      "mstephenson@fernandez.com\n",
      "835 Frank TunnelWrightmouth, MI 82180-9605\n",
      "Violet\n",
      "34.49726772511229\n",
      "12.65565114916675\n",
      "39.57766801952616\n",
      "4.0826206329529615\n",
      "587.9510539684005\n"
     ]
    }
   ],
   "source": [
    "for item in df.head(1)[0]:\n",
    "    print(item)"
   ]
  },
  {
   "cell_type": "code",
   "execution_count": 11,
   "metadata": {},
   "outputs": [],
   "source": [
    "#One of the first steps in the preprocessing is the vector assembler\n",
    "from pyspark.ml.linalg import Vectors\n",
    "from pyspark.ml.feature import VectorAssembler"
   ]
  },
  {
   "cell_type": "code",
   "execution_count": 12,
   "metadata": {},
   "outputs": [
    {
     "name": "stdout",
     "output_type": "stream",
     "text": [
      "root\n",
      " |-- Email: string (nullable = true)\n",
      " |-- Address: string (nullable = true)\n",
      " |-- Avatar: string (nullable = true)\n",
      " |-- Avg Session Length: double (nullable = true)\n",
      " |-- Time on App: double (nullable = true)\n",
      " |-- Time on Website: double (nullable = true)\n",
      " |-- Length of Membership: double (nullable = true)\n",
      " |-- Yearly Amount Spent: double (nullable = true)\n",
      " |-- features: vector (nullable = true)\n",
      "\n"
     ]
    }
   ],
   "source": [
    "#Yearly amount spent will be the label for the model\n",
    "assembler = VectorAssembler(inputCols=['Avg Session Length', 'Time on App', 'Time on Website',\n",
    "                            'Length of Membership'], outputCol='features')\n",
    "\n",
    "output = assembler.transform(df)\n",
    "output.printSchema()"
   ]
  },
  {
   "cell_type": "code",
   "execution_count": 14,
   "metadata": {},
   "outputs": [
    {
     "name": "stdout",
     "output_type": "stream",
     "text": [
      "+----------------------------------------------------------------------------+\n",
      "|features                                                                    |\n",
      "+----------------------------------------------------------------------------+\n",
      "|[34.49726772511229,12.65565114916675,39.57766801952616,4.0826206329529615]  |\n",
      "|[31.92627202636016,11.109460728682564,37.268958868297744,2.66403418213262]  |\n",
      "|[33.000914755642675,11.330278057777512,37.110597442120856,4.104543202376424]|\n",
      "|[34.30555662975554,13.717513665142507,36.72128267790313,3.120178782748092]  |\n",
      "|[33.33067252364639,12.795188551078114,37.53665330059473,4.446308318351434]  |\n",
      "+----------------------------------------------------------------------------+\n",
      "only showing top 5 rows\n",
      "\n"
     ]
    }
   ],
   "source": [
    "#Assembler creates a dense vector of the input columns\n",
    "output.select('features').show(5, truncate=False)"
   ]
  },
  {
   "cell_type": "code",
   "execution_count": 15,
   "metadata": {},
   "outputs": [
    {
     "name": "stdout",
     "output_type": "stream",
     "text": [
      "+-----------------------------------------------------------------------------+-------------------+\n",
      "|features                                                                     |Yearly Amount Spent|\n",
      "+-----------------------------------------------------------------------------+-------------------+\n",
      "|[34.49726772511229,12.65565114916675,39.57766801952616,4.0826206329529615]   |587.9510539684005  |\n",
      "|[31.92627202636016,11.109460728682564,37.268958868297744,2.66403418213262]   |392.2049334443264  |\n",
      "|[33.000914755642675,11.330278057777512,37.110597442120856,4.104543202376424] |487.54750486747207 |\n",
      "|[34.30555662975554,13.717513665142507,36.72128267790313,3.120178782748092]   |581.8523440352177  |\n",
      "|[33.33067252364639,12.795188551078114,37.53665330059473,4.446308318351434]   |599.4060920457634  |\n",
      "|[33.871037879341976,12.026925339755056,34.47687762925054,5.493507201364199]  |637.102447915074   |\n",
      "|[32.02159550138701,11.366348309710526,36.68377615286961,4.685017246570912]   |521.5721747578274  |\n",
      "|[32.739142938380326,12.35195897300293,37.37335885854755,4.4342734348999375]  |549.9041461052942  |\n",
      "|[33.98777289568564,13.386235275676436,37.534497341555735,3.2734335777477144] |570.2004089636196  |\n",
      "|[31.936548618448917,11.814128294972196,37.14516822352819,3.202806071553459]  |427.1993848953282  |\n",
      "|[33.992572774953736,13.338975447662113,37.22580613162114,2.482607770510596]  |492.6060127179966  |\n",
      "|[33.87936082480498,11.584782999535266,37.08792607098381,3.71320920294043]    |522.3374046069357  |\n",
      "|[29.532428967057943,10.961298400154098,37.42021557502538,4.046423164299585]  |408.6403510726275  |\n",
      "|[33.19033404372265,12.959226091609382,36.144666700041924,3.918541839158999]  |573.4158673313865  |\n",
      "|[32.387975853153876,13.148725692056516,36.61995708279922,2.494543646659249]  |470.4527333009554  |\n",
      "|[30.737720372628182,12.636606052000127,36.213763093698624,3.3578468423262944]|461.7807421962299  |\n",
      "|[32.12538689728784,11.733861690857394,34.8940927514398,3.1361327164897803]   |457.84769594494855 |\n",
      "|[32.338899323067196,12.013194694014402,38.38513659413844,2.420806160901484]  |407.70454754954415 |\n",
      "|[32.187812045932155,14.7153875441565,38.24411459434352,1.516575580831944]    |452.3156754800354  |\n",
      "|[32.61785606282345,13.989592555825254,37.190503800397956,4.064548550437977]  |605.061038804892   |\n",
      "+-----------------------------------------------------------------------------+-------------------+\n",
      "only showing top 20 rows\n",
      "\n"
     ]
    }
   ],
   "source": [
    "final_data = output.select('features', 'Yearly Amount Spent')\n",
    "final_data.show(truncate=False)"
   ]
  },
  {
   "cell_type": "code",
   "execution_count": 16,
   "metadata": {},
   "outputs": [
    {
     "name": "stderr",
     "output_type": "stream",
     "text": [
      "                                                                                \r"
     ]
    },
    {
     "name": "stdout",
     "output_type": "stream",
     "text": [
      "+-------+-------------------+\n",
      "|summary|Yearly Amount Spent|\n",
      "+-------+-------------------+\n",
      "|  count|                339|\n",
      "|   mean| 499.31045821198313|\n",
      "| stddev|  78.91493490021426|\n",
      "|    min| 256.67058229005585|\n",
      "|    max|  744.2218671047146|\n",
      "+-------+-------------------+\n",
      "\n"
     ]
    }
   ],
   "source": [
    "#train test split\n",
    "train_data, test_data = final_data.randomSplit([0.7, 0.3])\n",
    "train_data.describe().show()"
   ]
  },
  {
   "cell_type": "code",
   "execution_count": 19,
   "metadata": {},
   "outputs": [
    {
     "name": "stderr",
     "output_type": "stream",
     "text": [
      "22/02/15 11:03:16 WARN Instrumentation: [ccff367b] regParam is zero, which might cause numerical instability and overfitting.\n",
      "22/02/15 11:03:17 WARN InstanceBuilder$NativeBLAS: Failed to load implementation from:dev.ludovic.netlib.blas.JNIBLAS\n",
      "22/02/15 11:03:17 WARN InstanceBuilder$NativeBLAS: Failed to load implementation from:dev.ludovic.netlib.blas.ForeignLinkerBLAS\n",
      "22/02/15 11:03:17 WARN InstanceBuilder$NativeLAPACK: Failed to load implementation from:dev.ludovic.netlib.lapack.JNILAPACK\n"
     ]
    }
   ],
   "source": [
    "lr = LinearRegression(labelCol='Yearly Amount Spent')\n",
    "lr_model = lr.fit(train_data)"
   ]
  },
  {
   "cell_type": "code",
   "execution_count": 20,
   "metadata": {},
   "outputs": [
    {
     "name": "stderr",
     "output_type": "stream",
     "text": [
      "/home/ganesh/spark-3.2.1-bin-hadoop3.2/python/pyspark/sql/context.py:125: FutureWarning: Deprecated in 3.0.0. Use SparkSession.builder.getOrCreate() instead.\n",
      "  warnings.warn(\n"
     ]
    },
    {
     "name": "stdout",
     "output_type": "stream",
     "text": [
      "+--------------------+\n",
      "|           residuals|\n",
      "+--------------------+\n",
      "|  -4.901993767480633|\n",
      "|  5.1535251639049875|\n",
      "|  -7.389621343808187|\n",
      "|  -8.684406321629467|\n",
      "| -1.4957723895812478|\n",
      "|  -4.707883212055776|\n",
      "| -1.6883052194291395|\n",
      "| -10.444731503972548|\n",
      "|  -6.569694779126223|\n",
      "|  -7.260808808522711|\n",
      "|  2.6077204738078876|\n",
      "| -4.9936552364245586|\n",
      "|  -9.192026178810352|\n",
      "| -2.7615391064959454|\n",
      "| -12.606629496784535|\n",
      "|  -4.509603166714442|\n",
      "|  -3.368420849125812|\n",
      "|   5.632629136383628|\n",
      "|-0.36596679533954557|\n",
      "|   7.686120039471064|\n",
      "+--------------------+\n",
      "only showing top 20 rows\n",
      "\n"
     ]
    }
   ],
   "source": [
    "test_results = lr_model.evaluate(test_data)\n",
    "test_results.residuals.show()"
   ]
  },
  {
   "cell_type": "code",
   "execution_count": 21,
   "metadata": {},
   "outputs": [
    {
     "data": {
      "text/plain": [
       "9.298702845848846"
      ]
     },
     "execution_count": 21,
     "metadata": {},
     "output_type": "execute_result"
    }
   ],
   "source": [
    "test_results.rootMeanSquaredError"
   ]
  },
  {
   "cell_type": "code",
   "execution_count": 22,
   "metadata": {},
   "outputs": [
    {
     "data": {
      "text/plain": [
       "0.9865394631203264"
      ]
     },
     "execution_count": 22,
     "metadata": {},
     "output_type": "execute_result"
    }
   ],
   "source": [
    "test_results.r2"
   ]
  },
  {
   "cell_type": "code",
   "execution_count": 23,
   "metadata": {},
   "outputs": [
    {
     "name": "stdout",
     "output_type": "stream",
     "text": [
      "+-----------------------------------------------------------------------------+------------------+\n",
      "|features                                                                     |prediction        |\n",
      "+-----------------------------------------------------------------------------+------------------+\n",
      "|[30.879484344127498,13.280432242922114,36.93615937845674,3.5851606351613436] |495.1085937523353 |\n",
      "|[30.971675643887767,11.731364294077403,36.07455114016891,4.4263640805293125] |489.48508459298773|\n",
      "|[31.061325156716126,12.357638107209013,36.16604163340145,4.089330841235956]  |494.9450794017098 |\n",
      "|[31.128090049616628,13.278956228597714,37.38718052656558,4.626075291951958]  |565.9370930686841 |\n",
      "|[31.260646869879523,13.266760352944493,36.971195097457155,2.267251114447051] |422.8224036465326 |\n",
      "|[31.268104210750717,12.132509111641538,35.4567981489283,3.0720761414868827]  |428.1784163858797 |\n",
      "|[31.389585480664397,10.994223919350974,38.074452419704535,3.4288599039280125]|411.75791627941203|\n",
      "|[31.447446494127817,10.101632204781014,38.043452650841274,4.238296188412728] |429.04747359919656|\n",
      "|[31.51712180250623,10.745188554182882,38.79123468689964,1.4288238768282668]  |282.48811542951194|\n",
      "|[31.525752416968214,11.340035931978807,37.03951365322458,3.811248170807232]  |451.2264356184046 |\n",
      "|[31.53160448257291,13.378562784168984,38.73400628989712,2.2451477874052825]  |433.9078852555547 |\n",
      "|[31.625360134830608,13.187910985159366,37.06708996741924,1.4943108951995074] |381.33055599334875|\n",
      "|[31.72076990028731,11.752343171850052,38.57360522634684,5.023934200606659]   |547.9669596568333 |\n",
      "|[31.721652360509037,11.75502370305383,36.7657223578584,1.8473704233395083]   |350.5384657383686 |\n",
      "|[31.80930031667919,11.63466821794247,36.182539282355286,5.1133194748706225]  |549.3785288596257 |\n",
      "|[31.812482559724263,10.886921180951674,34.897827688311345,3.1286388557446334]|397.31994815051166|\n",
      "|[31.818616566769066,11.226545663510619,35.669935165958194,3.7558693892629655]|449.78709421926146|\n",
      "|[31.820998201672072,10.771074062599588,37.27863979370761,3.5190324339539223] |419.0426518768297 |\n",
      "|[31.82934645592113,11.268259230574026,36.956965425094104,2.6689197733345025] |385.51830478331453|\n",
      "|[31.85125312860837,12.41896198100501,35.97765170714366,3.251741770306888]    |465.30612662732733|\n",
      "+-----------------------------------------------------------------------------+------------------+\n",
      "only showing top 20 rows\n",
      "\n"
     ]
    }
   ],
   "source": [
    "unlablelled_data = test_data.select('features')\n",
    "\n",
    "predictions = lr_model.transform(unlablelled_data)\n",
    "predictions.show(truncate=False)"
   ]
  },
  {
   "cell_type": "code",
   "execution_count": 24,
   "metadata": {},
   "outputs": [],
   "source": [
    "#isnt this so cool"
   ]
  },
  {
   "cell_type": "code",
   "execution_count": null,
   "metadata": {},
   "outputs": [],
   "source": []
  }
 ],
 "metadata": {
  "interpreter": {
   "hash": "31f2aee4e71d21fbe5cf8b01ff0e069b9275f58929596ceb00d14d90e3e16cd6"
  },
  "kernelspec": {
   "display_name": "Python 3.9.7 64-bit",
   "language": "python",
   "name": "python3"
  },
  "language_info": {
   "codemirror_mode": {
    "name": "ipython",
    "version": 3
   },
   "file_extension": ".py",
   "mimetype": "text/x-python",
   "name": "python",
   "nbconvert_exporter": "python",
   "pygments_lexer": "ipython3",
   "version": "3.9.7"
  },
  "orig_nbformat": 4
 },
 "nbformat": 4,
 "nbformat_minor": 2
}
