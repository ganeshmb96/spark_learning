{
 "cells": [
  {
   "cell_type": "code",
   "execution_count": 13,
   "metadata": {},
   "outputs": [],
   "source": [
    "from pyspark.sql import SparkSession\n",
    "from pyspark.sql import functions as f\n",
    "from pyspark.ml.regression import LinearRegression\n",
    "from pyspark.sql.types import StructType\n",
    "\n",
    "def zip_df(l, r):\n",
    "    return l.rdd.zip(r.rdd)\\\n",
    "            .map(lambda x: (x[0][0],x[0][1],x[1][0]))\\\n",
    "            .toDF(StructType([l.schema[0],l.schema[1],r.schema[0]]))"
   ]
  },
  {
   "cell_type": "code",
   "execution_count": 2,
   "metadata": {},
   "outputs": [
    {
     "name": "stderr",
     "output_type": "stream",
     "text": [
      "22/02/14 10:18:55 WARN Utils: Your hostname, ganesh-pi resolves to a loopback address: 127.0.1.1; using 192.168.1.119 instead (on interface eth0)\n",
      "22/02/14 10:18:55 WARN Utils: Set SPARK_LOCAL_IP if you need to bind to another address\n",
      "WARNING: An illegal reflective access operation has occurred\n",
      "WARNING: Illegal reflective access by org.apache.spark.unsafe.Platform (file:/home/ganesh/spark-3.2.1-bin-hadoop3.2/jars/spark-unsafe_2.12-3.2.1.jar) to constructor java.nio.DirectByteBuffer(long,int)\n",
      "WARNING: Please consider reporting this to the maintainers of org.apache.spark.unsafe.Platform\n",
      "WARNING: Use --illegal-access=warn to enable warnings of further illegal reflective access operations\n",
      "WARNING: All illegal access operations will be denied in a future release\n",
      "Using Spark's default log4j profile: org/apache/spark/log4j-defaults.properties\n",
      "Setting default log level to \"WARN\".\n",
      "To adjust logging level use sc.setLogLevel(newLevel). For SparkR, use setLogLevel(newLevel).\n",
      "22/02/14 10:18:58 WARN NativeCodeLoader: Unable to load native-hadoop library for your platform... using builtin-java classes where applicable\n"
     ]
    }
   ],
   "source": [
    "spark = SparkSession.builder.appName('lin_reg').getOrCreate()"
   ]
  },
  {
   "cell_type": "code",
   "execution_count": 3,
   "metadata": {},
   "outputs": [
    {
     "name": "stderr",
     "output_type": "stream",
     "text": [
      "22/02/14 10:19:12 WARN LibSVMFileFormat: 'numFeatures' option not specified, determining the number of features by going though the input. If you know the number in advance, please specify it via 'numFeatures' option to avoid the extra scan.\n",
      "[Stage 0:>                                                          (0 + 1) / 1]\r"
     ]
    },
    {
     "name": "stdout",
     "output_type": "stream",
     "text": [
      "root\n",
      " |-- label: double (nullable = true)\n",
      " |-- features: vector (nullable = true)\n",
      "\n"
     ]
    },
    {
     "name": "stderr",
     "output_type": "stream",
     "text": [
      "                                                                                \r"
     ]
    }
   ],
   "source": [
    "training = spark.read.format('libsvm').load('sample_linear_regression_data.txt')\n",
    "training.printSchema()"
   ]
  },
  {
   "cell_type": "code",
   "execution_count": 4,
   "metadata": {},
   "outputs": [
    {
     "name": "stderr",
     "output_type": "stream",
     "text": [
      "[Stage 1:>                                                          (0 + 1) / 1]\r"
     ]
    },
    {
     "name": "stdout",
     "output_type": "stream",
     "text": [
      "+-------------------+--------------------+\n",
      "|              label|            features|\n",
      "+-------------------+--------------------+\n",
      "| -9.490009878824548|(10,[0,1,2,3,4,5,...|\n",
      "| 0.2577820163584905|(10,[0,1,2,3,4,5,...|\n",
      "| -4.438869807456516|(10,[0,1,2,3,4,5,...|\n",
      "|-19.782762789614537|(10,[0,1,2,3,4,5,...|\n",
      "| -7.966593841555266|(10,[0,1,2,3,4,5,...|\n",
      "+-------------------+--------------------+\n",
      "only showing top 5 rows\n",
      "\n"
     ]
    },
    {
     "name": "stderr",
     "output_type": "stream",
     "text": [
      "                                                                                \r"
     ]
    }
   ],
   "source": [
    "training.show(5, truncate=True)"
   ]
  },
  {
   "cell_type": "code",
   "execution_count": 5,
   "metadata": {},
   "outputs": [
    {
     "name": "stderr",
     "output_type": "stream",
     "text": [
      "22/02/14 10:19:32 WARN Instrumentation: [da38e8bd] regParam is zero, which might cause numerical instability and overfitting.\n",
      "22/02/14 10:19:34 WARN InstanceBuilder$NativeLAPACK: Failed to load implementation from:dev.ludovic.netlib.lapack.JNILAPACK\n",
      "                                                                                \r"
     ]
    }
   ],
   "source": [
    "#Instantiate the model\n",
    "lr = LinearRegression(featuresCol='features', labelCol='label', predictionCol='prediction')\n",
    "\n",
    "lrModel = lr.fit(training)"
   ]
  },
  {
   "cell_type": "code",
   "execution_count": 8,
   "metadata": {},
   "outputs": [
    {
     "data": {
      "text/plain": [
       "0.14228558260358093"
      ]
     },
     "execution_count": 8,
     "metadata": {},
     "output_type": "execute_result"
    }
   ],
   "source": [
    "lrModel.intercept"
   ]
  },
  {
   "cell_type": "code",
   "execution_count": 9,
   "metadata": {},
   "outputs": [
    {
     "name": "stdout",
     "output_type": "stream",
     "text": [
      "0.027839179518600154\n",
      "10.16309157133015\n"
     ]
    }
   ],
   "source": [
    "training_summary = lrModel.summary\n",
    "\n",
    "print(training_summary.r2)\n",
    "print(training_summary.rootMeanSquaredError)"
   ]
  },
  {
   "cell_type": "code",
   "execution_count": 7,
   "metadata": {},
   "outputs": [
    {
     "data": {
      "text/plain": [
       "[DataFrame[label: double, features: vector],\n",
       " DataFrame[label: double, features: vector]]"
      ]
     },
     "execution_count": 7,
     "metadata": {},
     "output_type": "execute_result"
    }
   ],
   "source": [
    "#Splitting the data into train test split\n",
    "all_data = training\n",
    "# all_data.printSchema()\n",
    "\n",
    "#Creating the randomised split\n",
    "split_obj = all_data.randomSplit([0.7, 0.3])\n",
    "split_obj"
   ]
  },
  {
   "cell_type": "code",
   "execution_count": 8,
   "metadata": {},
   "outputs": [],
   "source": [
    "train_data , test_data = all_data.randomSplit([0.7, 0.3])"
   ]
  },
  {
   "cell_type": "code",
   "execution_count": 14,
   "metadata": {},
   "outputs": [
    {
     "name": "stderr",
     "output_type": "stream",
     "text": [
      "                                                                                \r"
     ]
    },
    {
     "name": "stdout",
     "output_type": "stream",
     "text": [
      "+-------+-------------------+\n",
      "|summary|              label|\n",
      "+-------+-------------------+\n",
      "|  count|                155|\n",
      "|   mean| -0.997507602880807|\n",
      "| stddev| 10.627032952242061|\n",
      "|    min|-28.046018037776633|\n",
      "|    max| 22.647750304177556|\n",
      "+-------+-------------------+\n",
      "\n"
     ]
    }
   ],
   "source": [
    "test_data.describe().show()"
   ]
  },
  {
   "cell_type": "code",
   "execution_count": 9,
   "metadata": {},
   "outputs": [
    {
     "name": "stderr",
     "output_type": "stream",
     "text": [
      "22/02/14 10:20:05 WARN Instrumentation: [f336436b] regParam is zero, which might cause numerical instability and overfitting.\n",
      "                                                                                \r"
     ]
    },
    {
     "data": {
      "text/plain": [
       "10.237310555715675"
      ]
     },
     "execution_count": 9,
     "metadata": {},
     "output_type": "execute_result"
    }
   ],
   "source": [
    "correct_model = lr.fit(train_data)\n",
    "\n",
    "test_results = correct_model.evaluate(test_data)    #Comparing the predictions vs the actual values\n",
    "test_results.rootMeanSquaredError"
   ]
  },
  {
   "cell_type": "code",
   "execution_count": 10,
   "metadata": {},
   "outputs": [
    {
     "name": "stdout",
     "output_type": "stream",
     "text": [
      "+--------------------+--------------------+\n",
      "|            features|          prediction|\n",
      "+--------------------+--------------------+\n",
      "|(10,[0,1,2,3,4,5,...| -0.7642274306336959|\n",
      "|(10,[0,1,2,3,4,5,...| -2.0622071452412563|\n",
      "|(10,[0,1,2,3,4,5,...| -0.2900894514586674|\n",
      "|(10,[0,1,2,3,4,5,...|  -2.710431609214994|\n",
      "|(10,[0,1,2,3,4,5,...| -0.9680430791731777|\n",
      "|(10,[0,1,2,3,4,5,...|  1.6811920401703473|\n",
      "|(10,[0,1,2,3,4,5,...| -1.2232849817228173|\n",
      "|(10,[0,1,2,3,4,5,...|  0.6519810757083847|\n",
      "|(10,[0,1,2,3,4,5,...|  0.5977817790927897|\n",
      "|(10,[0,1,2,3,4,5,...|  3.1810333904575585|\n",
      "|(10,[0,1,2,3,4,5,...| -1.0644358794560151|\n",
      "|(10,[0,1,2,3,4,5,...|-0.21507318695515246|\n",
      "|(10,[0,1,2,3,4,5,...|  1.2745772611198392|\n",
      "|(10,[0,1,2,3,4,5,...|  0.1526879012486029|\n",
      "|(10,[0,1,2,3,4,5,...|   2.930424095171104|\n",
      "|(10,[0,1,2,3,4,5,...|-0.40887776481490923|\n",
      "|(10,[0,1,2,3,4,5,...|  0.5385669931816103|\n",
      "|(10,[0,1,2,3,4,5,...|  -4.123482088084502|\n",
      "|(10,[0,1,2,3,4,5,...| -2.1575761558254443|\n",
      "|(10,[0,1,2,3,4,5,...|  0.9582727073059916|\n",
      "+--------------------+--------------------+\n",
      "only showing top 20 rows\n",
      "\n"
     ]
    }
   ],
   "source": [
    "unlabelled_data = test_data.select('features')\n",
    "\n",
    "predictions = correct_model.transform(unlabelled_data)\n",
    "predictions.show()"
   ]
  },
  {
   "cell_type": "code",
   "execution_count": 14,
   "metadata": {},
   "outputs": [
    {
     "name": "stderr",
     "output_type": "stream",
     "text": [
      "[Stage 8:>                                                          (0 + 1) / 1]\r"
     ]
    },
    {
     "name": "stdout",
     "output_type": "stream",
     "text": [
      "+--------------------+--------------------+-------------------+\n",
      "|            features|          prediction|              label|\n",
      "+--------------------+--------------------+-------------------+\n",
      "|(10,[0,1,2,3,4,5,...| -0.7642274306336959|-28.571478869743427|\n",
      "|(10,[0,1,2,3,4,5,...| -2.0622071452412563|-26.736207182601724|\n",
      "|(10,[0,1,2,3,4,5,...| -0.2900894514586674|-23.487440120936512|\n",
      "|(10,[0,1,2,3,4,5,...|  -2.710431609214994|-22.837460416919342|\n",
      "|(10,[0,1,2,3,4,5,...| -0.9680430791731777|-19.872991038068406|\n",
      "|(10,[0,1,2,3,4,5,...|  1.6811920401703473| -18.27521356600463|\n",
      "|(10,[0,1,2,3,4,5,...| -1.2232849817228173|-17.494200356883344|\n",
      "|(10,[0,1,2,3,4,5,...|  0.6519810757083847|-17.065399625876015|\n",
      "|(10,[0,1,2,3,4,5,...|  0.5977817790927897|-16.692207021311106|\n",
      "|(10,[0,1,2,3,4,5,...|  3.1810333904575585| -16.26143027545273|\n",
      "|(10,[0,1,2,3,4,5,...| -1.0644358794560151|-16.151349351277112|\n",
      "|(10,[0,1,2,3,4,5,...|-0.21507318695515246| -16.08565904102149|\n",
      "|(10,[0,1,2,3,4,5,...|  1.2745772611198392| -15.72351561304857|\n",
      "|(10,[0,1,2,3,4,5,...|  0.1526879012486029|-15.437384793431217|\n",
      "|(10,[0,1,2,3,4,5,...|   2.930424095171104|-15.334767479922341|\n",
      "|(10,[0,1,2,3,4,5,...|-0.40887776481490923|-13.039928064104615|\n",
      "|(10,[0,1,2,3,4,5,...|  0.5385669931816103|-12.977848725392104|\n",
      "|(10,[0,1,2,3,4,5,...|  -4.123482088084502|-12.773226999251197|\n",
      "|(10,[0,1,2,3,4,5,...| -2.1575761558254443| -12.46765638103286|\n",
      "|(10,[0,1,2,3,4,5,...|  0.9582727073059916|-11.904986902675114|\n",
      "+--------------------+--------------------+-------------------+\n",
      "only showing top 20 rows\n",
      "\n"
     ]
    },
    {
     "name": "stderr",
     "output_type": "stream",
     "text": [
      "                                                                                \r"
     ]
    }
   ],
   "source": [
    "#Compbining the actual and predicted columns into one dataframe\n",
    "predictions = zip_df(predictions, test_data.select('label'))\n",
    "predictions.show()"
   ]
  },
  {
   "cell_type": "code",
   "execution_count": 1,
   "metadata": {},
   "outputs": [],
   "source": [
    "#Thanks for reading"
   ]
  },
  {
   "cell_type": "code",
   "execution_count": null,
   "metadata": {},
   "outputs": [],
   "source": []
  }
 ],
 "metadata": {
  "interpreter": {
   "hash": "31f2aee4e71d21fbe5cf8b01ff0e069b9275f58929596ceb00d14d90e3e16cd6"
  },
  "kernelspec": {
   "display_name": "Python 3.9.7 64-bit",
   "language": "python",
   "name": "python3"
  },
  "language_info": {
   "codemirror_mode": {
    "name": "ipython",
    "version": 3
   },
   "file_extension": ".py",
   "mimetype": "text/x-python",
   "name": "python",
   "nbconvert_exporter": "python",
   "pygments_lexer": "ipython3",
   "version": "3.9.7"
  },
  "orig_nbformat": 4
 },
 "nbformat": 4,
 "nbformat_minor": 2
}
