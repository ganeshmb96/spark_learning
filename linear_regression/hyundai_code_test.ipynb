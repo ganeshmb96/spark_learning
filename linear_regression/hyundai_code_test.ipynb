{
 "cells": [
  {
   "cell_type": "code",
   "execution_count": 5,
   "metadata": {},
   "outputs": [],
   "source": [
    "from pyspark.sql import SparkSession\n",
    "from pyspark.sql import functions as f\n",
    "from pyspark.ml.regression import LinearRegression\n",
    "from pyspark.ml.linalg import Vectors\n",
    "from pyspark.ml.feature import VectorAssembler, StringIndexer"
   ]
  },
  {
   "cell_type": "code",
   "execution_count": 2,
   "metadata": {},
   "outputs": [
    {
     "name": "stderr",
     "output_type": "stream",
     "text": [
      "22/02/15 11:15:22 WARN Utils: Your hostname, ganesh-pi resolves to a loopback address: 127.0.1.1; using 192.168.1.119 instead (on interface eth0)\n",
      "22/02/15 11:15:22 WARN Utils: Set SPARK_LOCAL_IP if you need to bind to another address\n",
      "WARNING: An illegal reflective access operation has occurred\n",
      "WARNING: Illegal reflective access by org.apache.spark.unsafe.Platform (file:/home/ganesh/spark-3.2.1-bin-hadoop3.2/jars/spark-unsafe_2.12-3.2.1.jar) to constructor java.nio.DirectByteBuffer(long,int)\n",
      "WARNING: Please consider reporting this to the maintainers of org.apache.spark.unsafe.Platform\n",
      "WARNING: Use --illegal-access=warn to enable warnings of further illegal reflective access operations\n",
      "WARNING: All illegal access operations will be denied in a future release\n",
      "Using Spark's default log4j profile: org/apache/spark/log4j-defaults.properties\n",
      "Setting default log level to \"WARN\".\n",
      "To adjust logging level use sc.setLogLevel(newLevel). For SparkR, use setLogLevel(newLevel).\n",
      "22/02/15 11:15:24 WARN NativeCodeLoader: Unable to load native-hadoop library for your platform... using builtin-java classes where applicable\n"
     ]
    }
   ],
   "source": [
    "spark = SparkSession.builder.appName('hyundai_test').getOrCreate()"
   ]
  },
  {
   "cell_type": "code",
   "execution_count": 3,
   "metadata": {},
   "outputs": [
    {
     "name": "stderr",
     "output_type": "stream",
     "text": [
      "[Stage 1:>                                                          (0 + 1) / 1]\r"
     ]
    },
    {
     "name": "stdout",
     "output_type": "stream",
     "text": [
      "root\n",
      " |-- Ship_name: string (nullable = true)\n",
      " |-- Cruise_line: string (nullable = true)\n",
      " |-- Age: integer (nullable = true)\n",
      " |-- Tonnage: double (nullable = true)\n",
      " |-- passengers: double (nullable = true)\n",
      " |-- length: double (nullable = true)\n",
      " |-- cabins: double (nullable = true)\n",
      " |-- passenger_density: double (nullable = true)\n",
      " |-- crew: double (nullable = true)\n",
      "\n"
     ]
    },
    {
     "name": "stderr",
     "output_type": "stream",
     "text": [
      "                                                                                \r"
     ]
    }
   ],
   "source": [
    "df = spark.read.csv('cruise_ship_info.csv', inferSchema=True, header=True)\n",
    "df.printSchema()"
   ]
  },
  {
   "cell_type": "code",
   "execution_count": 4,
   "metadata": {},
   "outputs": [
    {
     "name": "stderr",
     "output_type": "stream",
     "text": [
      "                                                                                \r"
     ]
    },
    {
     "name": "stdout",
     "output_type": "stream",
     "text": [
      "+-----------+-----------+---+------------------+----------+------+------+-----------------+----+\n",
      "|Ship_name  |Cruise_line|Age|Tonnage           |passengers|length|cabins|passenger_density|crew|\n",
      "+-----------+-----------+---+------------------+----------+------+------+-----------------+----+\n",
      "|Journey    |Azamara    |6  |30.276999999999997|6.94      |5.94  |3.55  |42.64            |3.55|\n",
      "|Quest      |Azamara    |6  |30.276999999999997|6.94      |5.94  |3.55  |42.64            |3.55|\n",
      "|Celebration|Carnival   |26 |47.262            |14.86     |7.22  |7.43  |31.8             |6.7 |\n",
      "|Conquest   |Carnival   |11 |110.0             |29.74     |9.53  |14.88 |36.99            |19.1|\n",
      "|Destiny    |Carnival   |17 |101.353           |26.42     |8.92  |13.21 |38.36            |10.0|\n",
      "|Ecstasy    |Carnival   |22 |70.367            |20.52     |8.55  |10.2  |34.29            |9.2 |\n",
      "|Elation    |Carnival   |15 |70.367            |20.52     |8.55  |10.2  |34.29            |9.2 |\n",
      "|Fantasy    |Carnival   |23 |70.367            |20.56     |8.55  |10.22 |34.23            |9.2 |\n",
      "|Fascination|Carnival   |19 |70.367            |20.52     |8.55  |10.2  |34.29            |9.2 |\n",
      "|Freedom    |Carnival   |6  |110.23899999999999|37.0      |9.51  |14.87 |29.79            |11.5|\n",
      "|Glory      |Carnival   |10 |110.0             |29.74     |9.51  |14.87 |36.99            |11.6|\n",
      "|Holiday    |Carnival   |28 |46.052            |14.52     |7.27  |7.26  |31.72            |6.6 |\n",
      "|Imagination|Carnival   |18 |70.367            |20.52     |8.55  |10.2  |34.29            |9.2 |\n",
      "|Inspiration|Carnival   |17 |70.367            |20.52     |8.55  |10.2  |34.29            |9.2 |\n",
      "|Legend     |Carnival   |11 |86.0              |21.24     |9.63  |10.62 |40.49            |9.3 |\n",
      "|Liberty*   |Carnival   |8  |110.0             |29.74     |9.51  |14.87 |36.99            |11.6|\n",
      "|Miracle    |Carnival   |9  |88.5              |21.24     |9.63  |10.62 |41.67            |10.3|\n",
      "|Paradise   |Carnival   |15 |70.367            |20.52     |8.55  |10.2  |34.29            |9.2 |\n",
      "|Pride      |Carnival   |12 |88.5              |21.24     |9.63  |11.62 |41.67            |9.3 |\n",
      "|Sensation  |Carnival   |20 |70.367            |20.52     |8.55  |10.2  |34.29            |9.2 |\n",
      "+-----------+-----------+---+------------------+----------+------+------+-----------------+----+\n",
      "only showing top 20 rows\n",
      "\n"
     ]
    }
   ],
   "source": [
    "df.show(truncate=False)"
   ]
  },
  {
   "cell_type": "code",
   "execution_count": 7,
   "metadata": {},
   "outputs": [],
   "source": [
    "#Converting the Cruise_line column to string values\n",
    "indexer = StringIndexer(inputCol='Cruise_line', outputCol='Cruise_line_index')\n",
    "indexed = indexer.fit(df).transform(df)"
   ]
  },
  {
   "cell_type": "code",
   "execution_count": 8,
   "metadata": {},
   "outputs": [
    {
     "name": "stdout",
     "output_type": "stream",
     "text": [
      "+-----------+-----------------+\n",
      "|Cruise_line|Cruise_line_index|\n",
      "+-----------+-----------------+\n",
      "|Azamara    |16.0             |\n",
      "|Azamara    |16.0             |\n",
      "|Carnival   |1.0              |\n",
      "|Carnival   |1.0              |\n",
      "|Carnival   |1.0              |\n",
      "|Carnival   |1.0              |\n",
      "|Carnival   |1.0              |\n",
      "|Carnival   |1.0              |\n",
      "|Carnival   |1.0              |\n",
      "|Carnival   |1.0              |\n",
      "|Carnival   |1.0              |\n",
      "|Carnival   |1.0              |\n",
      "|Carnival   |1.0              |\n",
      "|Carnival   |1.0              |\n",
      "|Carnival   |1.0              |\n",
      "|Carnival   |1.0              |\n",
      "|Carnival   |1.0              |\n",
      "|Carnival   |1.0              |\n",
      "|Carnival   |1.0              |\n",
      "|Carnival   |1.0              |\n",
      "+-----------+-----------------+\n",
      "only showing top 20 rows\n",
      "\n"
     ]
    }
   ],
   "source": [
    "indexed.select(['Cruise_line', 'Cruise_line_index']).show(truncate=False)"
   ]
  },
  {
   "cell_type": "code",
   "execution_count": 13,
   "metadata": {},
   "outputs": [
    {
     "data": {
      "text/plain": [
       "['Ship_name',\n",
       " 'Cruise_line',\n",
       " 'Age',\n",
       " 'Tonnage',\n",
       " 'passengers',\n",
       " 'length',\n",
       " 'cabins',\n",
       " 'passenger_density',\n",
       " 'crew',\n",
       " 'Cruise_line_index',\n",
       " 'features']"
      ]
     },
     "execution_count": 13,
     "metadata": {},
     "output_type": "execute_result"
    }
   ],
   "source": [
    "output.columns"
   ]
  },
  {
   "cell_type": "code",
   "execution_count": 11,
   "metadata": {},
   "outputs": [],
   "source": [
    "#combining all the numeric features into vectors\n",
    "assembler = VectorAssembler(inputCols=['Cruise_line_index', 'Age', 'Tonnage', 'passengers',\n",
    "                            'length', 'cabins', 'passenger_density'], outputCol='features')\n",
    "\n",
    "output = assembler.transform(indexed)\n",
    "# output.show()"
   ]
  },
  {
   "cell_type": "code",
   "execution_count": 15,
   "metadata": {},
   "outputs": [
    {
     "name": "stderr",
     "output_type": "stream",
     "text": [
      "                                                                                \r"
     ]
    },
    {
     "name": "stdout",
     "output_type": "stream",
     "text": [
      "+-------+-----------------+\n",
      "|summary|             crew|\n",
      "+-------+-----------------+\n",
      "|  count|              114|\n",
      "|   mean|7.579473684210531|\n",
      "| stddev|3.147236136002752|\n",
      "|    min|             0.59|\n",
      "|    max|             13.6|\n",
      "+-------+-----------------+\n",
      "\n"
     ]
    }
   ],
   "source": [
    "train_data, test_data = output.select('features', 'crew').randomSplit([0.7, 0.3])\n",
    "train_data.describe().show()"
   ]
  },
  {
   "cell_type": "code",
   "execution_count": 16,
   "metadata": {},
   "outputs": [
    {
     "name": "stderr",
     "output_type": "stream",
     "text": [
      "22/02/15 11:29:59 WARN Instrumentation: [242bbc20] regParam is zero, which might cause numerical instability and overfitting.\n",
      "22/02/15 11:30:00 WARN InstanceBuilder$NativeBLAS: Failed to load implementation from:dev.ludovic.netlib.blas.JNIBLAS\n",
      "22/02/15 11:30:00 WARN InstanceBuilder$NativeBLAS: Failed to load implementation from:dev.ludovic.netlib.blas.ForeignLinkerBLAS\n",
      "22/02/15 11:30:00 WARN InstanceBuilder$NativeLAPACK: Failed to load implementation from:dev.ludovic.netlib.lapack.JNILAPACK\n",
      "                                                                                \r"
     ]
    },
    {
     "name": "stdout",
     "output_type": "stream",
     "text": [
      "1.1822631818026546 0.9220459690901849\n"
     ]
    }
   ],
   "source": [
    "lr = LinearRegression(labelCol='crew')\n",
    "lr_model = lr.fit(train_data)\n",
    "\n",
    "test_results = lr_model.evaluate(test_data)\n",
    "print(test_results.rootMeanSquaredError, test_results.r2)"
   ]
  },
  {
   "cell_type": "code",
   "execution_count": 17,
   "metadata": {},
   "outputs": [
    {
     "name": "stdout",
     "output_type": "stream",
     "text": [
      "+--------------------------------------------------+------------------+\n",
      "|features                                          |prediction        |\n",
      "+--------------------------------------------------+------------------+\n",
      "|[0.0,4.0,220.0,54.0,11.82,27.0,40.74]             |20.602817543499373|\n",
      "|[0.0,6.0,158.0,43.7,11.25,18.0,36.16]             |13.855356761097509|\n",
      "|[0.0,7.0,158.0,43.7,11.12,18.0,36.16]             |13.793499202213347|\n",
      "|[0.0,11.0,138.0,31.14,10.2,15.57,44.32]           |12.9266849018226  |\n",
      "|[0.0,12.0,90.09,25.01,9.62,10.5,36.02]            |8.878219783156325 |\n",
      "|[0.0,13.0,138.0,31.14,10.2,15.57,44.32]           |12.915201649603976|\n",
      "|[0.0,17.0,70.0,20.76,8.67,9.02,33.72]             |7.585497580461531 |\n",
      "|[0.0,18.0,70.0,18.0,8.67,9.0,38.89]               |7.932585220058812 |\n",
      "|[1.0,8.0,110.0,29.74,9.51,14.87,36.99]            |11.924233202323432|\n",
      "|[1.0,11.0,110.0,29.74,9.53,14.88,36.99]           |11.923379960330038|\n",
      "|[1.0,17.0,101.353,26.42,8.92,13.21,38.36]         |10.660337121865442|\n",
      "|[1.0,23.0,70.367,20.56,8.55,10.22,34.23]          |8.50450760227663  |\n",
      "|[2.0,6.0,113.0,37.82,9.51,15.57,29.88]            |11.444364035073852|\n",
      "|[2.0,9.0,116.0,26.0,9.51,13.0,44.62]              |11.112707128619517|\n",
      "|[2.0,14.0,30.276999999999997,6.88,5.93,3.44,44.01]|3.4694063518239946|\n",
      "|[2.0,22.0,69.845,15.9,8.03,7.95,43.93]            |7.180709486992512 |\n",
      "|[2.0,29.0,44.348,12.0,7.54,6.0,36.96]             |5.598263153538426 |\n",
      "|[3.0,29.0,33.92,12.14,7.04,6.07,27.94]            |5.340816849781958 |\n",
      "|[4.0,8.0,91.0,22.44,9.65,11.22,40.55]             |10.009814315789702|\n",
      "|[4.0,9.0,81.0,21.44,9.21,10.72,37.78]             |9.420485835800275 |\n",
      "+--------------------------------------------------+------------------+\n",
      "only showing top 20 rows\n",
      "\n"
     ]
    }
   ],
   "source": [
    "unlablelled_data = test_data.select('features')\n",
    "\n",
    "predictions = lr_model.transform(unlablelled_data)\n",
    "predictions.show(truncate=False)"
   ]
  },
  {
   "cell_type": "code",
   "execution_count": null,
   "metadata": {},
   "outputs": [],
   "source": []
  }
 ],
 "metadata": {
  "interpreter": {
   "hash": "31f2aee4e71d21fbe5cf8b01ff0e069b9275f58929596ceb00d14d90e3e16cd6"
  },
  "kernelspec": {
   "display_name": "Python 3.9.7 64-bit",
   "language": "python",
   "name": "python3"
  },
  "language_info": {
   "codemirror_mode": {
    "name": "ipython",
    "version": 3
   },
   "file_extension": ".py",
   "mimetype": "text/x-python",
   "name": "python",
   "nbconvert_exporter": "python",
   "pygments_lexer": "ipython3",
   "version": "3.9.7"
  },
  "orig_nbformat": 4
 },
 "nbformat": 4,
 "nbformat_minor": 2
}
