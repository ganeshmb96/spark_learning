{
 "cells": [
  {
   "cell_type": "code",
   "execution_count": 1,
   "metadata": {},
   "outputs": [],
   "source": [
    "from pyspark.sql import SparkSession\n",
    "from pyspark.ml.classification import LogisticRegression\n",
    "from pyspark.ml.evaluation import BinaryClassificationEvaluator, MulticlassClassificationEvaluator\n",
    "from pyspark.sql import functions as f\n",
    "from pyspark.ml.feature import (VectorAssembler, VectorIndexer, \n",
    "                                    OneHotEncoder, StringIndexer)\n",
    "from pyspark.ml import Pipeline\n",
    "\n",
    "import warnings\n",
    "warnings.filterwarnings('ignore')"
   ]
  },
  {
   "cell_type": "code",
   "execution_count": 2,
   "metadata": {},
   "outputs": [
    {
     "name": "stderr",
     "output_type": "stream",
     "text": [
      "22/02/16 19:05:40 WARN Utils: Your hostname, ganesh-pi resolves to a loopback address: 127.0.1.1; using 192.168.1.119 instead (on interface eth0)\n",
      "22/02/16 19:05:40 WARN Utils: Set SPARK_LOCAL_IP if you need to bind to another address\n",
      "WARNING: An illegal reflective access operation has occurred\n",
      "WARNING: Illegal reflective access by org.apache.spark.unsafe.Platform (file:/home/ganesh/spark-3.2.1-bin-hadoop3.2/jars/spark-unsafe_2.12-3.2.1.jar) to constructor java.nio.DirectByteBuffer(long,int)\n",
      "WARNING: Please consider reporting this to the maintainers of org.apache.spark.unsafe.Platform\n",
      "WARNING: Use --illegal-access=warn to enable warnings of further illegal reflective access operations\n",
      "WARNING: All illegal access operations will be denied in a future release\n",
      "Using Spark's default log4j profile: org/apache/spark/log4j-defaults.properties\n",
      "Setting default log level to \"WARN\".\n",
      "To adjust logging level use sc.setLogLevel(newLevel). For SparkR, use setLogLevel(newLevel).\n",
      "22/02/16 19:05:42 WARN NativeCodeLoader: Unable to load native-hadoop library for your platform... using builtin-java classes where applicable\n",
      "[Stage 1:>                                                          (0 + 1) / 1]\r"
     ]
    },
    {
     "name": "stdout",
     "output_type": "stream",
     "text": [
      "root\n",
      " |-- Names: string (nullable = true)\n",
      " |-- Age: double (nullable = true)\n",
      " |-- Total_Purchase: double (nullable = true)\n",
      " |-- Account_Manager: integer (nullable = true)\n",
      " |-- Years: double (nullable = true)\n",
      " |-- Num_Sites: double (nullable = true)\n",
      " |-- Onboard_date: string (nullable = true)\n",
      " |-- Location: string (nullable = true)\n",
      " |-- Company: string (nullable = true)\n",
      " |-- Churn: integer (nullable = true)\n",
      "\n"
     ]
    },
    {
     "name": "stderr",
     "output_type": "stream",
     "text": [
      "                                                                                \r"
     ]
    }
   ],
   "source": [
    "spark = SparkSession.builder.appName('customer').getOrCreate()\n",
    "\n",
    "df = spark.read.csv('customer_churn.csv', inferSchema=True, header=True)\n",
    "df.printSchema()"
   ]
  },
  {
   "cell_type": "code",
   "execution_count": 18,
   "metadata": {},
   "outputs": [
    {
     "name": "stdout",
     "output_type": "stream",
     "text": [
      "+-------------------+-------------------+--------------------+--------------------+\n",
      "|              Names|       Onboard_date|            Location|             Company|\n",
      "+-------------------+-------------------+--------------------+--------------------+\n",
      "|   Cameron Williams|2013-08-30 07:00:40|10265 Elizabeth M...|          Harvey LLC|\n",
      "|      Kevin Mueller|2013-08-13 00:38:46|6157 Frank Garden...|          Wilson PLC|\n",
      "|        Eric Lozano|2016-06-29 06:20:07|1331 Keith Court ...|Miller, Johnson a...|\n",
      "|      Phillip White|2014-04-22 12:43:12|13120 Daniel Moun...|           Smith Inc|\n",
      "|     Cynthia Norton|2016-01-19 15:31:15|765 Tricia Row Ka...|          Love-Jones|\n",
      "|   Jessica Williams|2009-03-03 23:13:37|6187 Olson Mounta...|        Kelly-Warren|\n",
      "|        Eric Butler|2016-12-05 03:35:43|4846 Savannah Roa...|   Reynolds-Sheppard|\n",
      "|      Zachary Walsh|2006-03-09 14:50:20|25271 Roy Express...|          Singh-Cole|\n",
      "|        Ashlee Carr|2011-09-29 05:47:23|3725 Caroline Str...|           Lopez PLC|\n",
      "|     Jennifer Lynch|2006-03-28 15:42:45|363 Sandra Lodge ...|       Reed-Martinez|\n",
      "|       Paula Harris|2016-11-13 13:13:01|Unit 8120 Box 916...|Briggs, Lamb and ...|\n",
      "|     Bruce Phillips|2015-05-28 12:14:03|Unit 1895 Box 094...|    Figueroa-Maynard|\n",
      "|       Craig Garner|2011-02-16 08:10:47|897 Kelley Overpa...|     Abbott-Thompson|\n",
      "|       Nicole Olson|2012-11-22 05:35:03|11488 Weaver Cape...|Smith, Kim and Ma...|\n",
      "|     Harold Griffin|2015-03-28 02:13:44|1774 Peter Row Ap...|Snyder, Lee and M...|\n",
      "|       James Wright|2015-07-22 08:38:40|45408 David Path ...|      Sanders-Pierce|\n",
      "|      Doris Wilkins|2006-09-03 06:13:55|28216 Wright Moun...|Andrews, Adams an...|\n",
      "|Katherine Carpenter|2006-10-22 04:42:38|Unit 4948 Box 481...|Morgan, Phillips ...|\n",
      "|     Lindsay Martin|2015-10-07 00:27:10|69203 Crosby Divi...|      Villanueva LLC|\n",
      "|        Kathy Curry|2014-11-06 23:47:14|9569 Caldwell Cre...|Berry, Orr and Ca...|\n",
      "+-------------------+-------------------+--------------------+--------------------+\n",
      "only showing top 20 rows\n",
      "\n"
     ]
    }
   ],
   "source": [
    "str_cols= [item[0] for item in df.dtypes if item[1].startswith('string')]\n",
    "df.select(str_cols).show()"
   ]
  },
  {
   "cell_type": "code",
   "execution_count": 11,
   "metadata": {},
   "outputs": [
    {
     "name": "stdout",
     "output_type": "stream",
     "text": [
      "+----+--------------+-----+---------------+---------+-----+\n",
      "| Age|Total_Purchase|Years|Account_Manager|Num_Sites|Churn|\n",
      "+----+--------------+-----+---------------+---------+-----+\n",
      "|42.0|       11066.8| 7.22|              0|      8.0|    1|\n",
      "|41.0|      11916.22|  6.5|              0|     11.0|    1|\n",
      "|38.0|      12884.75| 6.67|              0|     12.0|    1|\n",
      "|42.0|       8010.76| 6.71|              0|     10.0|    1|\n",
      "|37.0|       9191.58| 5.56|              0|      9.0|    1|\n",
      "|48.0|      10356.02| 5.12|              0|      8.0|    1|\n",
      "|44.0|      11331.58| 5.23|              1|     11.0|    1|\n",
      "|32.0|       9885.12| 6.92|              1|      9.0|    1|\n",
      "|43.0|       14062.6| 5.46|              1|     11.0|    1|\n",
      "|40.0|       8066.94| 7.11|              1|     11.0|    1|\n",
      "|30.0|      11575.37| 5.22|              1|      8.0|    1|\n",
      "|45.0|       8771.02| 6.64|              1|     11.0|    1|\n",
      "|45.0|       8988.67| 4.84|              1|     11.0|    1|\n",
      "|40.0|       8283.32|  5.1|              1|     13.0|    1|\n",
      "|41.0|       6569.87|  4.3|              1|     11.0|    1|\n",
      "|38.0|      10494.82| 6.81|              1|     12.0|    1|\n",
      "|45.0|       8213.41| 7.35|              1|     11.0|    1|\n",
      "|43.0|      11226.88| 8.08|              0|     12.0|    1|\n",
      "|53.0|       5515.09| 6.85|              0|      8.0|    1|\n",
      "|46.0|        8046.4| 5.69|              1|      8.0|    1|\n",
      "+----+--------------+-----+---------------+---------+-----+\n",
      "only showing top 20 rows\n",
      "\n"
     ]
    }
   ],
   "source": [
    "df.select(['Age', 'Total_Purchase','Years' ,'Account_Manager'\n",
    "            ,'Num_Sites', 'Churn']).show()"
   ]
  },
  {
   "cell_type": "code",
   "execution_count": 12,
   "metadata": {},
   "outputs": [
    {
     "name": "stdout",
     "output_type": "stream",
     "text": [
      "+---+--------------+-----+---------------+---------+-----+\n",
      "|Age|Total_Purchase|Years|Account_Manager|Num_Sites|Churn|\n",
      "+---+--------------+-----+---------------+---------+-----+\n",
      "|  0|             0|    0|              0|        0|    0|\n",
      "+---+--------------+-----+---------------+---------+-----+\n",
      "\n"
     ]
    }
   ],
   "source": [
    "selected_data_df = df.select(['Age', 'Total_Purchase','Years' ,'Account_Manager'\n",
    "            ,'Num_Sites', 'Churn'])\n",
    "\n",
    "#Checking for nulls in the df\n",
    "selected_data_df.select([f.count(f.when(f.col(c).isNull(), c)).alias(c) for c in selected_data_df.columns]).show()"
   ]
  },
  {
   "cell_type": "code",
   "execution_count": 19,
   "metadata": {},
   "outputs": [
    {
     "data": {
      "text/plain": [
       "['Age', 'Total_Purchase', 'Years', 'Account_Manager', 'Num_Sites']"
      ]
     },
     "execution_count": 19,
     "metadata": {},
     "output_type": "execute_result"
    }
   ],
   "source": [
    "selected_data_df.drop('Churn').columns"
   ]
  },
  {
   "cell_type": "code",
   "execution_count": 26,
   "metadata": {},
   "outputs": [
    {
     "name": "stderr",
     "output_type": "stream",
     "text": [
      "                                                                                \r"
     ]
    }
   ],
   "source": [
    "#Creating a vector assembler for the features\n",
    "assembler = VectorAssembler(inputCols=selected_data_df.drop('Churn').columns, outputCol='features')\n",
    "\n",
    "vectorised_df=assembler.transform(selected_data_df)\n",
    "\n",
    "#Splitting the data into train and test\n",
    "train_data, test_data = vectorised_df.randomSplit([0.7, 0.3])\n",
    "\n",
    "#defining the l0g_reg model\n",
    "lr_model = LogisticRegression(featuresCol='features', labelCol='Churn')\n",
    "\n",
    "fitted_lr_model = lr_model.fit(train_data)"
   ]
  },
  {
   "cell_type": "code",
   "execution_count": 27,
   "metadata": {},
   "outputs": [
    {
     "name": "stdout",
     "output_type": "stream",
     "text": [
      "+----+--------------+-----+---------------+---------+-----+--------------------+--------------------+--------------------+----------+\n",
      "| Age|Total_Purchase|Years|Account_Manager|Num_Sites|Churn|            features|       rawPrediction|         probability|prediction|\n",
      "+----+--------------+-----+---------------+---------+-----+--------------------+--------------------+--------------------+----------+\n",
      "|22.0|      11254.38| 4.96|              1|      8.0|    0|[22.0,11254.38,4....|[4.34575533387472...|[0.98720414212423...|       0.0|\n",
      "|25.0|       9672.03| 5.49|              0|      8.0|    0|[25.0,9672.03,5.4...|[4.54459241754310...|[0.98948719116593...|       0.0|\n",
      "|28.0|       8670.98| 3.99|              0|      6.0|    0|[28.0,8670.98,3.9...|[7.47240060770255...|[0.99943176131525...|       0.0|\n",
      "|29.0|       5900.78| 5.56|              1|      8.0|    0|[29.0,5900.78,5.5...|[3.79099750178100...|[0.97792522166769...|       0.0|\n",
      "|29.0|      12711.15| 5.74|              0|      7.0|    0|[29.0,12711.15,5....|[5.27090496689454...|[0.99488731598647...|       0.0|\n",
      "|30.0|       7960.64| 2.72|              1|     10.0|    1|[30.0,7960.64,2.7...|[2.86741108429130...|[0.94621173701695...|       0.0|\n",
      "|30.0|       8677.28| 7.31|              1|      7.0|    0|[30.0,8677.28,7.3...|[3.90878027728184...|[0.98032972347869...|       0.0|\n",
      "|30.0|      10960.52| 5.96|              1|      9.0|    0|[30.0,10960.52,5....|[2.26277028241605...|[0.90574639565813...|       0.0|\n",
      "|31.0|       7073.61| 5.73|              0|      9.0|    0|[31.0,7073.61,5.7...|[3.01812156080936...|[0.95338611677474...|       0.0|\n",
      "|31.0|       8829.83| 4.52|              1|      8.0|    0|[31.0,8829.83,4.5...|[4.15012100711314...|[0.98448209216802...|       0.0|\n",
      "|31.0|       9574.89| 7.34|              0|      8.0|    0|[31.0,9574.89,7.3...|[3.26862615342590...|[0.96333667954708...|       0.0|\n",
      "|31.0|      12264.68| 5.88|              1|      8.0|    0|[31.0,12264.68,5....|[3.36290818707227...|[0.96652499721127...|       0.0|\n",
      "|32.0|       5756.12|  5.9|              0|      8.0|    0|[32.0,5756.12,5.9...|[4.05298784166381...|[0.98292618196633...|       0.0|\n",
      "|32.0|       7896.65| 7.12|              0|      8.0|    0|[32.0,7896.65,7.1...|[3.36978345021299...|[0.96674673033205...|       0.0|\n",
      "|32.0|       8617.98|  6.2|              1|     10.0|    1|[32.0,8617.98,6.2...|[0.94444653319749...|[0.71999696074021...|       0.0|\n",
      "|32.0|       9036.27| 7.14|              0|     11.0|    0|[32.0,9036.27,7.1...|[-0.1010193546593...|[0.47476661638707...|       1.0|\n",
      "|32.0|       9472.72|  1.0|              1|     10.0|    0|[32.0,9472.72,1.0...|[3.61280416733032...|[0.97373249937709...|       0.0|\n",
      "|32.0|      11540.86|  3.0|              0|      7.0|    0|[32.0,11540.86,3....|[6.55570289912086...|[0.99858003615940...|       0.0|\n",
      "|32.0|      11715.72| 4.73|              0|      9.0|    0|[32.0,11715.72,4....|[3.36832621390369...|[0.96669985196627...|       0.0|\n",
      "|32.0|      12479.72| 4.67|              0|      8.0|    0|[32.0,12479.72,4....|[4.52490999874021...|[0.98928046394725...|       0.0|\n",
      "+----+--------------+-----+---------------+---------+-----+--------------------+--------------------+--------------------+----------+\n",
      "only showing top 20 rows\n",
      "\n"
     ]
    }
   ],
   "source": [
    "#Evaluating the model \n",
    "results = fitted_lr_model.evaluate(test_data)\n",
    "results.predictions.show()"
   ]
  },
  {
   "cell_type": "code",
   "execution_count": 31,
   "metadata": {},
   "outputs": [
    {
     "name": "stdout",
     "output_type": "stream",
     "text": [
      "root\n",
      " |-- Age: double (nullable = true)\n",
      " |-- Total_Purchase: double (nullable = true)\n",
      " |-- Years: double (nullable = true)\n",
      " |-- Account_Manager: integer (nullable = true)\n",
      " |-- Num_Sites: double (nullable = true)\n",
      " |-- Churn: integer (nullable = true)\n",
      " |-- features: vector (nullable = true)\n",
      " |-- rawPrediction: vector (nullable = true)\n",
      " |-- probability: vector (nullable = true)\n",
      " |-- prediction: double (nullable = false)\n",
      "\n"
     ]
    }
   ],
   "source": [
    "results.predictions.printSchema()"
   ]
  },
  {
   "cell_type": "code",
   "execution_count": 32,
   "metadata": {},
   "outputs": [
    {
     "name": "stderr",
     "output_type": "stream",
     "text": [
      "                                                                                \r"
     ]
    },
    {
     "data": {
      "text/plain": [
       "0.6609279609279609"
      ]
     },
     "execution_count": 32,
     "metadata": {},
     "output_type": "execute_result"
    }
   ],
   "source": [
    "evaluator = BinaryClassificationEvaluator(rawPredictionCol='prediction', labelCol='Churn', metricName='areaUnderPR')\n",
    "evaluator.evaluate(results.predictions)"
   ]
  },
  {
   "cell_type": "markdown",
   "metadata": {},
   "source": [
    "Predicting on new customers"
   ]
  },
  {
   "cell_type": "code",
   "execution_count": 35,
   "metadata": {},
   "outputs": [],
   "source": [
    "pipeline = Pipeline(stages = [assembler, lr_model])"
   ]
  },
  {
   "cell_type": "code",
   "execution_count": 34,
   "metadata": {},
   "outputs": [
    {
     "name": "stdout",
     "output_type": "stream",
     "text": [
      "root\n",
      " |-- Names: string (nullable = true)\n",
      " |-- Age: double (nullable = true)\n",
      " |-- Total_Purchase: double (nullable = true)\n",
      " |-- Account_Manager: integer (nullable = true)\n",
      " |-- Years: double (nullable = true)\n",
      " |-- Num_Sites: double (nullable = true)\n",
      " |-- Onboard_date: string (nullable = true)\n",
      " |-- Location: string (nullable = true)\n",
      " |-- Company: string (nullable = true)\n",
      "\n"
     ]
    }
   ],
   "source": [
    "new_cust = spark.read.csv('new_customers.csv', inferSchema=True, header=True)\n",
    "new_cust.printSchema()"
   ]
  },
  {
   "cell_type": "code",
   "execution_count": 37,
   "metadata": {},
   "outputs": [
    {
     "name": "stdout",
     "output_type": "stream",
     "text": [
      "+--------------+----+--------------+---------------+-----+---------+-------------------+--------------------+----------------+--------------------+\n",
      "|         Names| Age|Total_Purchase|Account_Manager|Years|Num_Sites|       Onboard_date|            Location|         Company|            features|\n",
      "+--------------+----+--------------+---------------+-----+---------+-------------------+--------------------+----------------+--------------------+\n",
      "| Andrew Mccall|37.0|       9935.53|              1| 7.71|      8.0|2011-08-29 18:37:54|38612 Johnny Stra...|        King Ltd|[37.0,9935.53,7.7...|\n",
      "|Michele Wright|23.0|       7526.94|              1| 9.28|     15.0|2013-07-22 18:19:54|21083 Nicole Junc...|   Cannon-Benson|[23.0,7526.94,9.2...|\n",
      "|  Jeremy Chang|65.0|         100.0|              1|  1.0|     15.0|2006-12-11 07:48:13|085 Austin Views ...|Barron-Robertson|[65.0,100.0,1.0,1...|\n",
      "|Megan Ferguson|32.0|        6487.5|              0|  9.4|     14.0|2016-10-28 05:32:13|922 Wright Branch...|   Sexton-Golden|[32.0,6487.5,9.4,...|\n",
      "|  Taylor Young|32.0|      13147.71|              1| 10.0|      8.0|2012-03-20 00:36:46|Unit 0789 Box 073...|        Wood LLC|[32.0,13147.71,10...|\n",
      "| Jessica Drake|22.0|       8445.26|              1| 3.46|     14.0|2011-02-04 19:29:27|1148 Tina Straven...|   Parks-Robbins|[22.0,8445.26,3.4...|\n",
      "+--------------+----+--------------+---------------+-----+---------+-------------------+--------------------+----------------+--------------------+\n",
      "\n"
     ]
    }
   ],
   "source": [
    "fitted_new_cust = assembler.transform(new_cust)\n",
    "fitted_new_cust.show()"
   ]
  },
  {
   "cell_type": "code",
   "execution_count": 40,
   "metadata": {},
   "outputs": [
    {
     "name": "stdout",
     "output_type": "stream",
     "text": [
      "+--------------+----+--------------+---------------+-----+---------+-------------------+--------------------+----------------+--------------------+--------------------+--------------------+----------+\n",
      "|         Names| Age|Total_Purchase|Account_Manager|Years|Num_Sites|       Onboard_date|            Location|         Company|            features|       rawPrediction|         probability|prediction|\n",
      "+--------------+----+--------------+---------------+-----+---------+-------------------+--------------------+----------------+--------------------+--------------------+--------------------+----------+\n",
      "| Andrew Mccall|37.0|       9935.53|              1| 7.71|      8.0|2011-08-29 18:37:54|38612 Johnny Stra...|        King Ltd|[37.0,9935.53,7.7...|[2.15178872685352...|[0.89583580838231...|       0.0|\n",
      "|Michele Wright|23.0|       7526.94|              1| 9.28|     15.0|2013-07-22 18:19:54|21083 Nicole Junc...|   Cannon-Benson|[23.0,7526.94,9.2...|[-5.8604247902934...|[0.00284193315665...|       1.0|\n",
      "|  Jeremy Chang|65.0|         100.0|              1|  1.0|     15.0|2006-12-11 07:48:13|085 Austin Views ...|Barron-Robertson|[65.0,100.0,1.0,1...|[-3.6481371680818...|[0.02537873902306...|       1.0|\n",
      "|Megan Ferguson|32.0|        6487.5|              0|  9.4|     14.0|2016-10-28 05:32:13|922 Wright Branch...|   Sexton-Golden|[32.0,6487.5,9.4,...|[-4.6401924607552...|[0.00956349550498...|       1.0|\n",
      "|  Taylor Young|32.0|      13147.71|              1| 10.0|      8.0|2012-03-20 00:36:46|Unit 0789 Box 073...|        Wood LLC|[32.0,13147.71,10...|[1.15704925690356...|[0.76079613606220...|       0.0|\n",
      "| Jessica Drake|22.0|       8445.26|              1| 3.46|     14.0|2011-02-04 19:29:27|1148 Tina Straven...|   Parks-Robbins|[22.0,8445.26,3.4...|[-1.6751715592489...|[0.15773589312835...|       1.0|\n",
      "+--------------+----+--------------+---------------+-----+---------+-------------------+--------------------+----------------+--------------------+--------------------+--------------------+----------+\n",
      "\n"
     ]
    }
   ],
   "source": [
    "fitted_lr_new_cust = fitted_lr_model.transform(fitted_new_cust)\n",
    "fitted_lr_new_cust.show()"
   ]
  },
  {
   "cell_type": "code",
   "execution_count": 41,
   "metadata": {},
   "outputs": [
    {
     "name": "stdout",
     "output_type": "stream",
     "text": [
      "+----------------+----------+\n",
      "|         Company|prediction|\n",
      "+----------------+----------+\n",
      "|        King Ltd|       0.0|\n",
      "|   Cannon-Benson|       1.0|\n",
      "|Barron-Robertson|       1.0|\n",
      "|   Sexton-Golden|       1.0|\n",
      "|        Wood LLC|       0.0|\n",
      "|   Parks-Robbins|       1.0|\n",
      "+----------------+----------+\n",
      "\n"
     ]
    }
   ],
   "source": [
    "fitted_lr_new_cust.select('Company','prediction').show()"
   ]
  },
  {
   "cell_type": "code",
   "execution_count": 42,
   "metadata": {},
   "outputs": [],
   "source": [
    "#Thanks for reading"
   ]
  },
  {
   "cell_type": "code",
   "execution_count": null,
   "metadata": {},
   "outputs": [],
   "source": []
  }
 ],
 "metadata": {
  "interpreter": {
   "hash": "31f2aee4e71d21fbe5cf8b01ff0e069b9275f58929596ceb00d14d90e3e16cd6"
  },
  "kernelspec": {
   "display_name": "Python 3.9.7 64-bit",
   "language": "python",
   "name": "python3"
  },
  "language_info": {
   "codemirror_mode": {
    "name": "ipython",
    "version": 3
   },
   "file_extension": ".py",
   "mimetype": "text/x-python",
   "name": "python",
   "nbconvert_exporter": "python",
   "pygments_lexer": "ipython3",
   "version": "3.9.7"
  },
  "orig_nbformat": 4
 },
 "nbformat": 4,
 "nbformat_minor": 2
}
