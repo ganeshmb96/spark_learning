{
 "cells": [
  {
   "cell_type": "code",
   "execution_count": 8,
   "metadata": {},
   "outputs": [],
   "source": [
    "from pyspark.sql import SparkSession\n",
    "from pyspark.ml.classification import LogisticRegression\n",
    "from pyspark.sql import functions as f\n",
    "\n",
    "import warnings\n",
    "warnings.filterwarnings(\"ignore\")"
   ]
  },
  {
   "cell_type": "code",
   "execution_count": 2,
   "metadata": {},
   "outputs": [
    {
     "name": "stderr",
     "output_type": "stream",
     "text": [
      "22/02/16 11:33:07 WARN Utils: Your hostname, ganesh-pi resolves to a loopback address: 127.0.1.1; using 192.168.1.119 instead (on interface eth0)\n",
      "22/02/16 11:33:07 WARN Utils: Set SPARK_LOCAL_IP if you need to bind to another address\n",
      "WARNING: An illegal reflective access operation has occurred\n",
      "WARNING: Illegal reflective access by org.apache.spark.unsafe.Platform (file:/home/ganesh/spark-3.2.1-bin-hadoop3.2/jars/spark-unsafe_2.12-3.2.1.jar) to constructor java.nio.DirectByteBuffer(long,int)\n",
      "WARNING: Please consider reporting this to the maintainers of org.apache.spark.unsafe.Platform\n",
      "WARNING: Use --illegal-access=warn to enable warnings of further illegal reflective access operations\n",
      "WARNING: All illegal access operations will be denied in a future release\n",
      "Using Spark's default log4j profile: org/apache/spark/log4j-defaults.properties\n",
      "Setting default log level to \"WARN\".\n",
      "To adjust logging level use sc.setLogLevel(newLevel). For SparkR, use setLogLevel(newLevel).\n",
      "22/02/16 11:33:09 WARN NativeCodeLoader: Unable to load native-hadoop library for your platform... using builtin-java classes where applicable\n"
     ]
    }
   ],
   "source": [
    "spark = SparkSession.builder.appName('log_reg').getOrCreate()"
   ]
  },
  {
   "cell_type": "code",
   "execution_count": 3,
   "metadata": {},
   "outputs": [
    {
     "name": "stderr",
     "output_type": "stream",
     "text": [
      "22/02/16 11:34:26 WARN LibSVMFileFormat: 'numFeatures' option not specified, determining the number of features by going though the input. If you know the number in advance, please specify it via 'numFeatures' option to avoid the extra scan.\n",
      "[Stage 1:>                                                          (0 + 1) / 1]\r"
     ]
    },
    {
     "name": "stdout",
     "output_type": "stream",
     "text": [
      "+-----+--------------------+\n",
      "|label|            features|\n",
      "+-----+--------------------+\n",
      "|  0.0|(692,[127,128,129...|\n",
      "|  1.0|(692,[158,159,160...|\n",
      "|  1.0|(692,[124,125,126...|\n",
      "|  1.0|(692,[152,153,154...|\n",
      "|  1.0|(692,[151,152,153...|\n",
      "|  0.0|(692,[129,130,131...|\n",
      "|  1.0|(692,[158,159,160...|\n",
      "|  1.0|(692,[99,100,101,...|\n",
      "|  0.0|(692,[154,155,156...|\n",
      "|  0.0|(692,[127,128,129...|\n",
      "|  1.0|(692,[154,155,156...|\n",
      "|  0.0|(692,[153,154,155...|\n",
      "|  0.0|(692,[151,152,153...|\n",
      "|  1.0|(692,[129,130,131...|\n",
      "|  0.0|(692,[154,155,156...|\n",
      "|  1.0|(692,[150,151,152...|\n",
      "|  0.0|(692,[124,125,126...|\n",
      "|  0.0|(692,[152,153,154...|\n",
      "|  1.0|(692,[97,98,99,12...|\n",
      "|  1.0|(692,[124,125,126...|\n",
      "+-----+--------------------+\n",
      "only showing top 20 rows\n",
      "\n"
     ]
    },
    {
     "name": "stderr",
     "output_type": "stream",
     "text": [
      "                                                                                \r"
     ]
    }
   ],
   "source": [
    "df = spark.read.format('libsvm').load('sample_libsvm_data.txt')\n",
    "df.show()"
   ]
  },
  {
   "cell_type": "code",
   "execution_count": 5,
   "metadata": {},
   "outputs": [],
   "source": [
    "log_reg_model = LogisticRegression()\n",
    "\n",
    "fitted_log_reg_model = log_reg_model.fit(df)\n",
    "\n",
    "results = fitted_log_reg_model.summary"
   ]
  },
  {
   "cell_type": "code",
   "execution_count": 9,
   "metadata": {},
   "outputs": [
    {
     "name": "stdout",
     "output_type": "stream",
     "text": [
      "root\n",
      " |-- label: double (nullable = true)\n",
      " |-- features: vector (nullable = true)\n",
      " |-- rawPrediction: vector (nullable = true)\n",
      " |-- probability: vector (nullable = true)\n",
      " |-- prediction: double (nullable = false)\n",
      "\n"
     ]
    }
   ],
   "source": [
    "results.predictions.printSchema()"
   ]
  },
  {
   "cell_type": "code",
   "execution_count": 10,
   "metadata": {},
   "outputs": [
    {
     "name": "stderr",
     "output_type": "stream",
     "text": [
      "                                                                                \r"
     ]
    },
    {
     "name": "stdout",
     "output_type": "stream",
     "text": [
      "+-----+--------------------+--------------------+--------------------+----------+\n",
      "|label|            features|       rawPrediction|         probability|prediction|\n",
      "+-----+--------------------+--------------------+--------------------+----------+\n",
      "|  0.0|(692,[127,128,129...|[20.3777627514870...|[0.99999999858729...|       0.0|\n",
      "|  1.0|(692,[158,159,160...|[-21.114014198872...|[6.76550379997544...|       1.0|\n",
      "|  1.0|(692,[124,125,126...|[-23.743613234669...|[4.87842678719363...|       1.0|\n",
      "|  1.0|(692,[152,153,154...|[-19.192574012715...|[4.62137287300564...|       1.0|\n",
      "|  1.0|(692,[151,152,153...|[-20.125398874693...|[1.81823629114105...|       1.0|\n",
      "|  0.0|(692,[129,130,131...|[20.4890549504180...|[0.99999999873608...|       0.0|\n",
      "|  1.0|(692,[158,159,160...|[-21.082940212819...|[6.97903542820426...|       1.0|\n",
      "|  1.0|(692,[99,100,101,...|[-19.622713503550...|[3.00582577446273...|       1.0|\n",
      "|  0.0|(692,[154,155,156...|[21.1594863606545...|[0.99999999935352...|       0.0|\n",
      "|  0.0|(692,[127,128,129...|[28.1036706837249...|[0.99999999999937...|       0.0|\n",
      "|  1.0|(692,[154,155,156...|[-21.054076780103...|[7.18340962962567...|       1.0|\n",
      "|  0.0|(692,[153,154,155...|[26.9648490510157...|[0.99999999999805...|       0.0|\n",
      "|  0.0|(692,[151,152,153...|[32.7855654161371...|[0.99999999999999...|       0.0|\n",
      "|  1.0|(692,[129,130,131...|[-20.331839179672...|[1.47908944089075...|       1.0|\n",
      "|  0.0|(692,[154,155,156...|[21.7830579106544...|[0.99999999965347...|       0.0|\n",
      "|  1.0|(692,[150,151,152...|[-20.640562103727...|[1.08621994880500...|       1.0|\n",
      "|  0.0|(692,[124,125,126...|[22.6400775503720...|[0.99999999985292...|       0.0|\n",
      "|  0.0|(692,[152,153,154...|[38.0712919910887...|           [1.0,0.0]|       0.0|\n",
      "|  1.0|(692,[97,98,99,12...|[-19.830803265607...|[2.44113371550856...|       1.0|\n",
      "|  1.0|(692,[124,125,126...|[-21.016054806032...|[7.46179590487585...|       1.0|\n",
      "+-----+--------------------+--------------------+--------------------+----------+\n",
      "only showing top 20 rows\n",
      "\n"
     ]
    }
   ],
   "source": [
    "results.predictions.show()"
   ]
  },
  {
   "cell_type": "code",
   "execution_count": 11,
   "metadata": {},
   "outputs": [
    {
     "name": "stdout",
     "output_type": "stream",
     "text": [
      "+-----+--------------------+--------------------+--------------------+----------+\n",
      "|label|            features|       rawPrediction|         probability|prediction|\n",
      "+-----+--------------------+--------------------+--------------------+----------+\n",
      "|  0.0|(692,[95,96,97,12...|[22.2500872614395...|[0.99999999978277...|       0.0|\n",
      "|  0.0|(692,[124,125,126...|[55.9296929979790...|           [1.0,0.0]|       0.0|\n",
      "|  0.0|(692,[124,125,126...|[31.9096824889648...|[0.99999999999998...|       0.0|\n",
      "|  0.0|(692,[126,127,128...|[38.2358314361694...|           [1.0,0.0]|       0.0|\n",
      "|  0.0|(692,[126,127,128...|[15.4008887242905...|[0.99999979512973...|       0.0|\n",
      "|  0.0|(692,[126,127,128...|[29.5762487462652...|[0.99999999999985...|       0.0|\n",
      "|  0.0|(692,[127,128,129...|[19.8135866233609...|[0.99999999751647...|       0.0|\n",
      "|  0.0|(692,[127,128,129...|[22.7204352587774...|[0.99999999986428...|       0.0|\n",
      "|  0.0|(692,[152,153,154...|[37.5746768021352...|           [1.0,0.0]|       0.0|\n",
      "|  0.0|(692,[153,154,155...|[38.5685991637861...|           [1.0,0.0]|       0.0|\n",
      "|  0.0|(692,[153,154,155...|[32.4354717213838...|[0.99999999999999...|       0.0|\n",
      "|  0.0|(692,[154,155,156...|[23.3312801667335...|[0.99999999992631...|       0.0|\n",
      "|  0.0|(692,[154,155,156...|[16.9089655406233...|[0.99999995465498...|       0.0|\n",
      "|  0.0|(692,[155,156,180...|[31.3130682889499...|[0.99999999999997...|       0.0|\n",
      "|  0.0|(692,[234,235,237...|[0.66435252458660...|[0.66023744390203...|       0.0|\n",
      "|  1.0|(692,[97,98,99,12...|[-12.833617676491...|[2.66949739193508...|       1.0|\n",
      "|  1.0|(692,[100,101,102...|[31.4130108070864...|[0.99999999999997...|       0.0|\n",
      "|  1.0|(692,[123,124,125...|[-21.666508788446...|[3.89363099928230...|       1.0|\n",
      "|  1.0|(692,[123,124,125...|[-22.378890182529...|[1.90972785424837...|       1.0|\n",
      "|  1.0|(692,[123,124,125...|[-19.966959940215...|[2.13039177471898...|       1.0|\n",
      "+-----+--------------------+--------------------+--------------------+----------+\n",
      "only showing top 20 rows\n",
      "\n"
     ]
    }
   ],
   "source": [
    "#splitting the data into training and testing\n",
    "\n",
    "lr_train, lr_test = df.randomSplit([0.7, 0.3])\n",
    "\n",
    "fitted_model = log_reg_model.fit(lr_train)\n",
    "\n",
    "predictions_lr = fitted_model.evaluate(lr_test)\n",
    "predictions_lr.predictions.show()"
   ]
  },
  {
   "cell_type": "code",
   "execution_count": 15,
   "metadata": {},
   "outputs": [
    {
     "name": "stderr",
     "output_type": "stream",
     "text": [
      "                                                                                \r"
     ]
    },
    {
     "data": {
      "text/plain": [
       "0.9827694235588972"
      ]
     },
     "execution_count": 15,
     "metadata": {},
     "output_type": "execute_result"
    }
   ],
   "source": [
    "from pyspark.ml.evaluation import BinaryClassificationEvaluator, MulticlassClassificationEvaluator\n",
    "\n",
    "evaluator = BinaryClassificationEvaluator(metricName='areaUnderPR')\n",
    "evaluator.evaluate(predictions_lr.predictions)"
   ]
  }
 ],
 "metadata": {
  "interpreter": {
   "hash": "31f2aee4e71d21fbe5cf8b01ff0e069b9275f58929596ceb00d14d90e3e16cd6"
  },
  "kernelspec": {
   "display_name": "Python 3.9.7 64-bit",
   "language": "python",
   "name": "python3"
  },
  "language_info": {
   "codemirror_mode": {
    "name": "ipython",
    "version": 3
   },
   "file_extension": ".py",
   "mimetype": "text/x-python",
   "name": "python",
   "nbconvert_exporter": "python",
   "pygments_lexer": "ipython3",
   "version": "3.9.7"
  },
  "orig_nbformat": 4
 },
 "nbformat": 4,
 "nbformat_minor": 2
}
